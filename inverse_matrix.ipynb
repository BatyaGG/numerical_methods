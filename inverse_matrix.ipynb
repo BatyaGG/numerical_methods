{
 "cells": [
  {
   "cell_type": "markdown",
   "metadata": {
    "collapsed": true
   },
   "source": [
    "## Inverse matrix using LU decomposition"
   ]
  },
  {
   "cell_type": "code",
   "execution_count": 1,
   "metadata": {
    "collapsed": true
   },
   "outputs": [],
   "source": [
    "# dependency importing\n",
    "import random as rn\n",
    "import numpy as np\n",
    "import time as tm\n",
    "from matplotlib import pyplot as plt"
   ]
  },
  {
   "cell_type": "markdown",
   "metadata": {
    "collapsed": true
   },
   "source": [
    "### Functions implementation"
   ]
  },
  {
   "cell_type": "code",
   "execution_count": 1,
   "metadata": {},
   "outputs": [],
   "source": [
    "# matrix generator function\n",
    "def generate_mat(dim1, dim2 = 0):\n",
    "    if dim2 == 0: dim2 = dim1\n",
    "    a=np.zeros((dim1,dim2),float)\n",
    "    SEED = int(tm.time())\n",
    "    rn.seed(SEED)\n",
    "    for i in range(dim1):\n",
    "        for j in range(dim2):\n",
    "            a[i,j]=rn.random()\n",
    "    return a, SEED\n",
    "\n",
    "# matrix pivot function\n",
    "def pivot_mat(mat, b_mat, current_row = 0):\n",
    "#     base case: last row or column stops recursive calls\n",
    "    if current_row in [(mat.shape[0] - 1), (mat.shape[1] - 1)]: return mat, b_mat\n",
    "\n",
    "#     determining maximum index of current iteration\n",
    "#     current row is added since we are not interested in previous\n",
    "#     already pivoted rows\n",
    "    max_index = mat[current_row:, current_row].argmax() + current_row\n",
    "\n",
    "#     if current row/column of interest already is a max, we just go to next row\n",
    "    if max_index == current_row:\n",
    "        res = pivot_mat(mat, b_mat, current_row + 1)\n",
    "        return res[0], res[1]\n",
    "    \n",
    "#     simple switching of rows of both A and b matrices\n",
    "    switch_row = mat[max_index, :].copy()\n",
    "    mat[max_index, :] = mat[current_row, :]\n",
    "    mat[current_row, :] = switch_row    \n",
    "    switch_row = b_mat[max_index, :].copy()\n",
    "    b_mat[max_index, :] = b_mat[current_row, :]\n",
    "    b_mat[current_row, :] = switch_row    \n",
    "    \n",
    "#     recursive call for next rows/columns\n",
    "    res = pivot_mat(mat, b_mat, current_row + 1)\n",
    "    return res[0], res[1]\n",
    "\n",
    "# LU decomposer function\n",
    "def decompose_LU(mat, current_row = 0):\n",
    "#     L matrix is determined column by column\n",
    "#     U matrix is determined row by row\n",
    "    L_vect = np.zeros((mat.shape[0], 1))\n",
    "    U_vect = np.zeros((1, mat.shape[1]))\n",
    "\n",
    "#     filling L vector with zeros from top\n",
    "    for i in range(current_row):\n",
    "        L_vect[i, 0] = 0\n",
    "#     filling L vector with 1 diagonally\n",
    "    L_vect[current_row, 0] = 1\n",
    "    \n",
    "#     finding elimination coefficients to fill L vector\n",
    "    for i in range(current_row + 1, mat.shape[0]):\n",
    "        L_vect[i, 0] = mat[i, current_row] / mat[current_row, current_row]\n",
    "        \n",
    "#     filling gaussian coefficients to U vector\n",
    "    for i in range(current_row, mat.shape[1]):\n",
    "        U_vect[0, i] = mat[current_row, i]\n",
    "        \n",
    "#     if current row index is out of shape, return the last row/column of L U vectors\n",
    "    if current_row + 1 == mat.shape[0]: return L_vect, U_vect\n",
    "    \n",
    "#     gaussian elimination\n",
    "    for i in range(current_row + 1, mat.shape[0]):\n",
    "        for j in range(current_row + 1, mat.shape[1]):\n",
    "            mat[i, j] = mat[i, j] - mat[current_row, j] * (mat[i, current_row] / mat[current_row, current_row])\n",
    "        for j in range(current_row + 1):\n",
    "            mat[i, j] = 0\n",
    "            \n",
    "#     recursive call returning tuple of next rows and cols of L and U vectors\n",
    "    res = decompose_LU(mat, current_row + 1)\n",
    "    \n",
    "#     simple stacking current and next results\n",
    "    return np.hstack((L_vect, res[0])), np.vstack((U_vect, res[1]))\n",
    "\n",
    "# matrix inverser function\n",
    "def inverse_mat(L, U, pivoted_b, current_row = 0):\n",
    "#     slicing b vector from b matrix\n",
    "    b = pivoted_b[:, current_row].reshape((pivoted_b.shape[0], 1))\n",
    "    \n",
    "#     if last row is reached, returning last culumn of inverse matrix\n",
    "    if current_row == L.shape[1] - 1: return np.linalg.solve(U, np.linalg.solve(L, b))\n",
    "    \n",
    "#     else returning horizontally stacked vector of current column and next columns\n",
    "    return np.hstack((np.linalg.solve(U, np.linalg.solve(L, b)), inverse_mat(L, U, pivoted_b, current_row + 1)))\n",
    "\n",
    "# root mean square or norm of matrix\n",
    "def rms_norm(error_mat):\n",
    "    error_mat = error_mat.flatten()\n",
    "    squared_sum = 0\n",
    "    for i in range(error_mat.shape[0]):\n",
    "        squared_sum += error_mat[i]**2\n",
    "    return np.sqrt(squared_sum)"
   ]
  },
  {
   "cell_type": "markdown",
   "metadata": {},
   "source": [
    "### Generation of 20 by 20 matrix of random numbers in [0, 1] range"
   ]
  },
  {
   "cell_type": "code",
   "execution_count": 46,
   "metadata": {},
   "outputs": [
    {
     "name": "stdout",
     "output_type": "stream",
     "text": [
      "Seed of generated matrix is 1519022768\n"
     ]
    }
   ],
   "source": [
    "# generation of matrix of nxn dimension\n",
    "n = 20\n",
    "mat, seed = generate_mat(n)\n",
    "print('Seed of generated matrix is ' + str(seed))"
   ]
  },
  {
   "cell_type": "markdown",
   "metadata": {},
   "source": [
    "### Applying implemented function to find inverse of the matrix"
   ]
  },
  {
   "cell_type": "code",
   "execution_count": 47,
   "metadata": {
    "collapsed": true
   },
   "outputs": [],
   "source": [
    "# initial b matrix for inverse matrix calculation\n",
    "b_mat = np.identity(mat.shape[0])\n",
    "\n",
    "# b_mat identity matrix also have to be pivoted since it is RHS of linear equations\n",
    "pivoted_mat, pivoted_b = pivot_mat(mat.copy(), b_mat.copy())\n",
    "\n",
    "# LU decomposition using gaussian elimination steps\n",
    "l, u = decompose_LU(pivoted_mat.copy())\n",
    "\n",
    "# solving linear equations for pivoted b matrix and LU matrices\n",
    "inv_mat = inverse_mat(l, u, pivoted_b)"
   ]
  },
  {
   "cell_type": "markdown",
   "metadata": {},
   "source": [
    "### Accuracy test using RMS error"
   ]
  },
  {
   "cell_type": "code",
   "execution_count": 48,
   "metadata": {},
   "outputs": [
    {
     "name": "stdout",
     "output_type": "stream",
     "text": [
      "Root-mean-square error of inverse matrix is 1.12373117757e-13\n"
     ]
    }
   ],
   "source": [
    "# checking for root-mean-square error of matrix inverse \n",
    "accuracy_identity = np.matmul(mat, inv_mat)\n",
    "error = b_mat - accuracy_identity\n",
    "error = rms_norm(error.copy())\n",
    "print('Root-mean-square error of inverse matrix is ' + str(error))"
   ]
  },
  {
   "cell_type": "markdown",
   "metadata": {},
   "source": [
    "### Estimation of condition number"
   ]
  },
  {
   "cell_type": "code",
   "execution_count": 49,
   "metadata": {},
   "outputs": [
    {
     "name": "stdout",
     "output_type": "stream",
     "text": [
      "Condition number of A according to inverse of A is 202.209934442\n"
     ]
    }
   ],
   "source": [
    "# condition number estimation\n",
    "cond_num = rms_norm(mat) * rms_norm(inv_mat)\n",
    "print('Condition number of A according to inverse of A is ' + str(cond_num))"
   ]
  },
  {
   "cell_type": "markdown",
   "metadata": {},
   "source": [
    "Well-condition concept is relativistic. There is no absolute threshold for being ill or well conditioned matrix system. At each iteration different condition numbers are generated and at last iteration condition number of 202 was obtained. Relatively to other iterations it is more well conditioned than previosly obtained matrices in general."
   ]
  },
  {
   "cell_type": "markdown",
   "metadata": {},
   "source": [
    "### Condition number vs Error relation test"
   ]
  },
  {
   "cell_type": "code",
   "execution_count": 45,
   "metadata": {},
   "outputs": [
    {
     "data": {
      "image/png": "[encoded data removed]",
      "text/plain": [
       "<matplotlib.figure.Figure at 0xa5b8cc0>"
      ]
     },
     "metadata": {},
     "output_type": "display_data"
    }
   ],
   "source": [
    "from matplotlib import pyplot as plt\n",
    "\n",
    "# generation of A matrix 10000 times\n",
    "# calculation of relative error of inverse estimation\n",
    "# and condition number to see correlation of them\n",
    "def custom_proc(dim, num_points):\n",
    "    err_list = []\n",
    "    cond_list = []\n",
    "    for i in range(num_points):\n",
    "        mat = np.random.rand(dim, dim)\n",
    "        b_mat = np.identity(mat.shape[0])\n",
    "        pivoted_mat, pivoted_b = pivot_mat(mat.copy(), b_mat.copy())\n",
    "        l, u = decompose_LU(pivoted_mat.copy())\n",
    "        inv_mat = inverse_mat(l, u, pivoted_b)\n",
    "        accuracy_identity = np.matmul(mat, inv_mat)\n",
    "        error = b_mat - accuracy_identity\n",
    "        error = rms_norm(error.copy()) / rms_norm(inv_mat)\n",
    "        cond_num = rms_norm(mat) * rms_norm(inv_mat)\n",
    "        err_list += [error]\n",
    "        cond_list += [cond_num]\n",
    "    return err_list, cond_list\n",
    "\n",
    "err_list, cond_list = custom_proc(20, 10000)\n",
    "plt.loglog(cond_list, err_list, '.')\n",
    "plt.xlabel('Condition number')\n",
    "plt.ylabel('Relative error')\n",
    "plt.grid(color='r', linestyle='-', linewidth=0.5, which='both')\n",
    "plt.show()"
   ]
  },
  {
   "cell_type": "markdown",
   "metadata": {},
   "source": [
    "From above logarithmic scatter plot it is clearly seen that there is no any pattern in relative error vs condition number. That means relative error and condition number are not highly correlated to each other and there is no any inter consistency."
   ]
  },
  {
   "cell_type": "markdown",
   "metadata": {},
   "source": [
    "### Execution time test"
   ]
  },
  {
   "cell_type": "code",
   "execution_count": 57,
   "metadata": {},
   "outputs": [
    {
     "name": "stdout",
     "output_type": "stream",
     "text": [
      "Average time for numpy inverse function execution is: 8.000612258911133e-05 secs.\n",
      "Average time for LU decomposition inverse function execution is: 0.007870438098907471 secs.\n",
      "Average RMS error for numpy inverse function execution is: 1.00188023699e-14\n",
      "Average RMS error for LU decomposition inverse function execution is: 1.12373117757e-13\n"
     ]
    }
   ],
   "source": [
    "np_time = []\n",
    "np_acc = []\n",
    "custom_time = []\n",
    "custom_acc = []\n",
    "for _ in range(100):\n",
    "    np_start = tm.time()\n",
    "    np_inv = np.linalg.inv(mat)\n",
    "    np_spent = tm.time() - np_start\n",
    "    custom_start = tm.time()\n",
    "    pivoted_mat, pivoted_b = pivot_mat(mat.copy(), b_mat.copy())\n",
    "    l, u = decompose_LU(pivoted_mat.copy())\n",
    "    custom_inv = inverse_mat(l, u, pivoted_b)\n",
    "    custom_spent = tm.time() - custom_start\n",
    "    np_identity = np.matmul(mat, np_inv)\n",
    "    np_error = b_mat - np_identity\n",
    "    np_error = rms_norm(np_error.copy())\n",
    "    custom_identity = np.matmul(mat, custom_inv)\n",
    "    custom_error = b_mat - custom_identity\n",
    "    custom_error = rms_norm(custom_error.copy())\n",
    "    np_time += [np_spent]\n",
    "    np_acc += [np_error]\n",
    "    custom_time += [custom_spent]\n",
    "    custom_acc += [custom_error]\n",
    "    \n",
    "print('Average time for numpy inverse function execution is: ' + str(sum(np_time)/float(len(np_time))) + ' secs.')\n",
    "print('Average time for LU decomposition inverse function execution is: ' + str(sum(custom_time)/float(len(custom_time))) + ' secs.')\n",
    "print('Average RMS error for numpy inverse function execution is: ' + str(sum(np_acc)/float(len(np_acc))))\n",
    "print('Average RMS error for LU decomposition inverse function execution is: ' + str(sum(custom_acc)/float(len(custom_acc))))"
   ]
  },
  {
   "cell_type": "markdown",
   "metadata": {},
   "source": [
    "Numpy inverse function is better than my implementation in terms of both time and accuracy. From web sources it is seen that numpy inverse is calculated also using gaussian elimination and LU factorization methodology, so comparison is consistent. It is clear that numpy is a wrapped C/C++ package and highly optimized in terms of various complexities, so numpy will be anyway faster than any Python implementation."
   ]
  }
 ],
 "metadata": {
  "anaconda-cloud": {},
  "kernelspec": {
   "display_name": "Python 3",
   "language": "python",
   "name": "python3"
  },
  "language_info": {
   "codemirror_mode": {
    "name": "ipython",
    "version": 3
   },
   "file_extension": ".py",
   "mimetype": "text/x-python",
   "name": "python",
   "nbconvert_exporter": "python",
   "pygments_lexer": "ipython3",
   "version": "3.6.4"
  }
 },
 "nbformat": 4,
 "nbformat_minor": 1
}
